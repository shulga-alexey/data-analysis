{
 "cells": [
  {
   "cell_type": "markdown",
   "id": "2d29df75-4762-40e7-acc6-37538b4e5014",
   "metadata": {},
   "source": [
    "wr236596 statlist236596 fld236596a0\n",
    "wr236839 statlist236839 fld236839a0"
   ]
  },
  {
   "cell_type": "code",
   "execution_count": 5,
   "id": "52fcfad5-91ca-4ce1-b106-d1c63604fcfa",
   "metadata": {},
   "outputs": [],
   "source": [
    "import os\n",
    "import pandas as pd\n",
    "import numpy as np\n",
    "import plotly.graph_objects as go\n",
    "import plotly.express as px\n",
    "import plotly.io as pio\n",
    "import scipy.stats as st\n",
    "\n",
    "pio.renderers.default = 'jupyterlab'"
   ]
  },
  {
   "cell_type": "code",
   "execution_count": null,
   "id": "3566b75f-6059-421e-9022-fb16df119045",
   "metadata": {},
   "outputs": [],
   "source": [
    "DATA_PATH = os.path.join('data', 'meteo', 'wr236839')\n",
    "DATA_METEOSTATIONS_PATH = os.path.join(DATA_PATH, 'statlist236839.txt')\n",
    "DATA_FIELDS_PATH = os.path.join(DATA_PATH, 'fld236839a0.txt')\n",
    "DATA_MAIN_PATH = os.path.join(DATA_PATH, 'wr236839.txt')\n",
    "\n",
    "meteostations, headers = [], []\n",
    "\n",
    "with open(DATA_METEOSTATIONS_PATH, encoding='WINDOWS-1251') as file:\n",
    "    for line in file:\n",
    "        idx, split_line = line.split(maxsplit=1)\n",
    "        name, country = split_line.rsplit(maxsplit=1)\n",
    "        meteostations.append((idx, name, country))\n",
    "\n",
    "with open(DATA_FIELDS_PATH, encoding='WINDOWS-1251') as file:\n",
    "    headers = [line.split(maxsplit=3)[3].rstrip() for line in file]\n",
    "\n",
    "df_meteostations = pd.DataFrame(meteostations, columns=['Индекс ВМО', 'Название станции', 'Страна'])\n",
    "df_main = pd.read_fwf(DATA_MAIN_PATH, names=headers)\n",
    "df_main.rename(columns = {'Год': 'year', 'Месяц': 'month', 'День': 'day'}, inplace=True)\n",
    "df_main.insert(1, 'Дата', pd.to_datetime(df_main[['year', 'month', 'day']], errors='coerce'))\n",
    "df_main.drop(['year', 'month', 'day'], axis=1, inplace=True)\n",
    "df_main.dropna(subset=['Дата'], inplace=True)\n",
    "df_main.set_index('Дата')"
   ]
  },
  {
   "cell_type": "code",
   "execution_count": null,
   "id": "db73273d-889c-41c5-b5b6-64614f9e4181",
   "metadata": {},
   "outputs": [],
   "source": [
    "data = df_main.groupby(df_main['Дата'].dt.year)['Средняя температура воздуха'].mean()\n",
    "data -= data.mean()\n",
    "data = data.rolling(10, min_periods=10).mean().dropna()\n",
    "\n",
    "idx, temperature = np.arange(0, data.size), data.array\n",
    "res = st.linregress(idx, temperature)\n",
    "line = res.slope * idx + res.intercept\n",
    "\n",
    "layout = go.Layout(\n",
    "    title='Скользящее среднее аномалии среднегодовой температуры воздуха (отклонение от средней за базовый период 2001-2022)',\n",
    "    xaxis_title='Время, год',\n",
    "    yaxis_title='Аномалия температуры, °C',\n",
    "    xaxis_range=[2010, 2022],\n",
    "    yaxis_range=[-0.4, 0.4]\n",
    ")\n",
    "\n",
    "fig = go.Figure(layout=layout)\n",
    "fig.add_trace(go.Scatter(x=data.index, y=data.array, mode='markers', name='Аномалия среднегодовой температуры'))\n",
    "fig.add_trace(go.Scatter(x=data.index, y=line, mode='lines', name='Аппроксимация'))\n",
    "fig.show()\n",
    "print(f'Рост температуры в среднем составляет {round(res.slope, 2)} °C за год.')"
   ]
  },
  {
   "cell_type": "code",
   "execution_count": null,
   "id": "a16feb80-908a-4401-b52f-ce574af21589",
   "metadata": {},
   "outputs": [],
   "source": [
    "data = df_main.groupby(df_main['Дата'].dt.year)['Количество осадков'].sum().rolling(10, min_periods=10).mean().dropna()\n",
    "\n",
    "idx, precipitation = np.arange(0, data.size), data.array\n",
    "res = st.linregress(idx, precipitation)\n",
    "line = res.slope * idx + res.intercept\n",
    "\n",
    "layout = go.Layout(\n",
    "    title='Скользящее среднее по сумме количества осадков в каждом регионе за год',\n",
    "    xaxis_title='Время, год',\n",
    "    yaxis_title='Атмосферные осадки, мм',\n",
    "    xaxis_range=[2010, 2022],\n",
    "    yaxis_range=[155000, 175000]\n",
    ")\n",
    "\n",
    "fig = go.Figure(layout=layout)\n",
    "fig.add_trace(go.Scatter(x=data.index, y=data.array, mode='markers', name='Количество осадков'))\n",
    "fig.add_trace(go.Scatter(x=data.index, y=line, mode='lines', name='Аппроксимация'))\n",
    "fig.show()\n",
    "print(f'Падение объема осадков в среднем составляет {round(-res.slope, 2)} мм за год.')"
   ]
  },
  {
   "cell_type": "code",
   "execution_count": 8,
   "id": "eeee11c8-eabb-4894-a661-f7d1aa34e349",
   "metadata": {},
   "outputs": [],
   "source": [
    "DATA_PATH = os.path.join('data', 'meteo', 'fires')\n",
    "DATA_FIELDS_PATH = os.path.join(DATA_PATH, 'codebook.csv')\n",
    "DATA_MAIN_PATH = os.path.join(DATA_PATH, 'thermopoints.csv')\n",
    "\n",
    "df_main = pd.read_csv(DATA_MAIN_PATH, sep=';', parse_dates=['dt'])\n",
    "df_main['year'] = df_main['dt'].dt.year"
   ]
  },
  {
   "cell_type": "code",
   "execution_count": null,
   "id": "4c2e20ea-5cc4-4881-b323-87e2c2218512",
   "metadata": {
    "scrolled": true
   },
   "outputs": [],
   "source": [
    "data = df_main\n",
    "\n",
    "fig = px.scatter_mapbox(\n",
    "    data,\n",
    "    lat='lat',\n",
    "    lon='lon',\n",
    "    hover_name='type_name',\n",
    "    hover_data=['dt', 'type_id'],\n",
    "    color_discrete_sequence=['fuchsia'],\n",
    "    animation_frame='year',\n",
    "    zoom=3,\n",
    "    height=600,\n",
    ")\n",
    "fig.update_layout(mapbox_style=\"open-street-map\")\n",
    "fig.update_layout(margin={\"r\": 0, \"t\": 0, \"l\": 0, \"b\": 0})\n",
    "fig.show()\n",
    "fig.show(renderer='browser')"
   ]
  },
  {
   "cell_type": "code",
   "execution_count": null,
   "id": "11f2921e-f251-4556-a795-cc054de8f949",
   "metadata": {},
   "outputs": [],
   "source": [
    "data = df_main.groupby(['year', 'type_name']).agg({'type_id': 'count'}).reset_index()\n",
    "\n",
    "fig = px.bar(\n",
    "    data,\n",
    "    x='year',\n",
    "    y='type_id',\n",
    "    color='type_name',\n",
    "    title='Количество пожаров на территории России за период 2012-2021',\n",
    "    color_continuous_scale='Rainbow',\n",
    "    labels={'year': 'Время, год',\n",
    "            'type_id': 'Число пожаров',\n",
    "            'type_name': 'Тип пожара'},\n",
    ")\n",
    "fig.show()"
   ]
  }
 ],
 "metadata": {
  "kernelspec": {
   "display_name": "Python 3 (ipykernel)",
   "language": "python",
   "name": "python3"
  },
  "language_info": {
   "codemirror_mode": {
    "name": "ipython",
    "version": 3
   },
   "file_extension": ".py",
   "mimetype": "text/x-python",
   "name": "python",
   "nbconvert_exporter": "python",
   "pygments_lexer": "ipython3",
   "version": "3.10.12"
  }
 },
 "nbformat": 4,
 "nbformat_minor": 5
}
